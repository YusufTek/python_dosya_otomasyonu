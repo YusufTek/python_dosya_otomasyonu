{
 "cells": [
  {
   "cell_type": "code",
   "execution_count": 37,
   "id": "c5b0d88b",
   "metadata": {},
   "outputs": [
    {
     "name": "stdout",
     "output_type": "stream",
     "text": [
      "Gandalf.jpg\n",
      "The_Lord_of_Rings.txt\n",
      "The_Lord_of_Rings2.txt\n",
      "The_Lord_of_Rings3.txt\n"
     ]
    }
   ],
   "source": [
    "import os # İşletim sistemi işlemleri için gerekli kütüphane\n",
    "\n",
    "# Belgeler klasörünün yolunu oluştur\n",
    "# os.path.join() platform bağımsız yol oluşturur (Windows: \\, Linux/Mac: /)\n",
    "klasor_yolu = os.path.join(\"Belgeler\")\n",
    "\n",
    "# Belirtilen klasördeki tüm dosya ve klasörleri listele\n",
    "dosyalar = os.listdir(klasor_yolu)\n",
    "\n",
    "# Listedeki her dosya/klasör adını tek tek yazdır\n",
    "for dosya in dosyalar:\n",
    "    print(dosya)"
   ]
  },
  {
   "cell_type": "code",
   "execution_count": 38,
   "id": "262796cd",
   "metadata": {},
   "outputs": [
    {
     "name": "stdout",
     "output_type": "stream",
     "text": [
      "The_Lord_of_Rings.txt\n",
      "The_Lord_of_Rings2.txt\n",
      "The_Lord_of_Rings3.txt\n"
     ]
    }
   ],
   "source": [
    "klasor_yolu = os.path.join(\"Belgeler\")\n",
    "dosyalar = os.listdir(klasor_yolu)\n",
    "\n",
    "for dosya in dosyalar:\n",
    "    # Sadece .txt uzantılı dosyaları filtrele\n",
    "    if dosya.endswith(\".txt\"):\n",
    "        print(dosya)"
   ]
  },
  {
   "cell_type": "code",
   "execution_count": 39,
   "id": "6892534e",
   "metadata": {},
   "outputs": [
    {
     "name": "stdout",
     "output_type": "stream",
     "text": [
      "The_Lord_of_Rings.txt kopyalandı -> kayıt_edilecek_klasör\\The_Lord_of_Rings.txt\n",
      "The_Lord_of_Rings2.txt kopyalandı -> kayıt_edilecek_klasör\\The_Lord_of_Rings2.txt\n",
      "The_Lord_of_Rings3.txt kopyalandı -> kayıt_edilecek_klasör\\The_Lord_of_Rings3.txt\n"
     ]
    }
   ],
   "source": [
    "# Dosya kopyalama işlemleri için shutil kütüphanesini içe aktar\n",
    "import shutil\n",
    "# İşletim sistemi işlemleri için os kütüphanesini içe aktar\n",
    "import os\n",
    "\n",
    "# Kaynak ve hedef klasörlerin yollarını tanımla\n",
    "kaynak_klasor = os.path.join(\"Belgeler\")\n",
    "hedef_klasor = os.path.join(\"kayıt_edilecek_klasör\")\n",
    "\n",
    "# Hedef klasör yoksa oluştur\n",
    "if not os.path.exists(hedef_klasor):\n",
    "    os.makedirs(hedef_klasor)\n",
    "\n",
    "# Kaynak klasördeki her dosyayı kontrol et\n",
    "for dosya in os.listdir(kaynak_klasor):\n",
    "    # Sadece .txt uzantılı dosyaları işle\n",
    "    if dosya.endswith(\".txt\"):\n",
    "        # Tam dosya yollarını oluştur\n",
    "        kaynak_yol = os.path.join(kaynak_klasor, dosya)\n",
    "        hedef_yol = os.path.join(hedef_klasor, dosya)\n",
    "\n",
    "        # Dosyayı kopyala (orijinal dosya kaynak klasörde kalır)\n",
    "        shutil.copy(kaynak_yol, hedef_yol)\n",
    "\n",
    "        # İşlem tamamlandığını bildir\n",
    "        print(f\"{dosya} kopyalandı -> {hedef_yol}\")"
   ]
  },
  {
   "cell_type": "markdown",
   "id": "8bd8627f",
   "metadata": {},
   "source": [
    "** LOG Kullanalım **"
   ]
  },
  {
   "cell_type": "code",
   "execution_count": 40,
   "id": "6a279f6f",
   "metadata": {},
   "outputs": [
    {
     "name": "stdout",
     "output_type": "stream",
     "text": [
      "[2025-07-02 15:07:36] The_Lord_of_Rings.txt -> kayıt_edilecek_klasör\\The_Lord_of_Rings.txt\n",
      "[2025-07-02 15:07:36] The_Lord_of_Rings2.txt -> kayıt_edilecek_klasör\\The_Lord_of_Rings2.txt\n",
      "[2025-07-02 15:07:36] The_Lord_of_Rings3.txt -> kayıt_edilecek_klasör\\The_Lord_of_Rings3.txt\n"
     ]
    }
   ],
   "source": [
    "import os\n",
    "import shutil\n",
    "from datetime import datetime # Tarih ve zaman işlemleri için\n",
    "\n",
    "# Klasör yollarını ve log dosyası yolunu tanımla\n",
    "kaynak_klasor = os.path.join(\"Belgeler\")\n",
    "hedef_klasor = os.path.join(\"kayıt_edilecek_klasör\")\n",
    "log_dosyasi = os.path.join(hedef_klasor, \"log.txt\")\n",
    "\n",
    "#Hedef klasör yoksa oluştur\n",
    "if not os.path.exists(hedef_klasor):\n",
    "    os.makedirs(hedef_klasor)\n",
    "\n",
    "# Log dosyasını aç ve işlemleri kaydet\n",
    "with open(log_dosyasi, \"a\", encoding=\"utf-8\") as log:\n",
    "    # \"a\" = append (ekleme) modu - dosya varsa sonuna ekler, yoksa oluşturur.\n",
    "    # encoding=\"utf-8\" = Türkçe karakterleri doğru yazmak için.\n",
    "    # with bloğu bitince dosya otomatik kapanır.\n",
    "\n",
    "    # \"log.txt\" dosyasını açar (yoksa oluşturur),\n",
    "    # O dosyaya ekleme (append) modunda işlem yapar,\n",
    "    # Dosyayla işin bitince otomatik olarak kapatır (sen close() demesen bile),\n",
    "    # log adında bir değişkene dosya nesnesini bağlar (dosyaya yazmak için kullanırız).\n",
    "\n",
    "    for dosya in os.listdir(kaynak_klasor):\n",
    "        if dosya.endswith(\".txt\"):\n",
    "            kaynak_yol = os.path.join(kaynak_klasor, dosya)\n",
    "            hedef_yol = os.path.join(hedef_klasor, dosya)\n",
    "\n",
    "            shutil.copy(kaynak_yol, hedef_yol)\n",
    "\n",
    "            # Şu anki tarih ve saati al, formatla\n",
    "            zaman = datetime.now().strftime(\"%Y-%m-%d %H:%M:%S\")\n",
    "            # Log satırını oluştur\n",
    "            log_satiri = f\"[{zaman}] {dosya} -> {hedef_yol}\\n\"\n",
    "            # Log satırını dosyaya yaz\n",
    "            log.write(log_satiri)\n",
    "\n",
    "            print(log_satiri.strip())  # Log satırını konsola yazdırır. Strip() ile satır sonu boşluklarını kaldırırız."
   ]
  },
  {
   "cell_type": "markdown",
   "id": "13252ee3",
   "metadata": {},
   "source": [
    "** Şimdi Taşıma İşlemini öğrenelim **"
   ]
  },
  {
   "cell_type": "code",
   "execution_count": 41,
   "id": "5c7ad2c0",
   "metadata": {},
   "outputs": [
    {
     "name": "stdout",
     "output_type": "stream",
     "text": [
      "[2025-07-02 15:07:39] The_Lord_of_Rings.txt taşındı -> Belgeler2\n",
      "[2025-07-02 15:07:39] The_Lord_of_Rings2.txt taşındı -> Belgeler2\n",
      "[2025-07-02 15:07:39] The_Lord_of_Rings3.txt taşındı -> Belgeler2\n"
     ]
    }
   ],
   "source": [
    "import os\n",
    "import shutil\n",
    "from datetime import datetime\n",
    "\n",
    "kaynak_klasor = os.path.join(\"Belgeler\")\n",
    "arsiv_klasor = os.path.join(\"Belgeler2\") # Dosyaların taşınacağı arşiv klasör\n",
    "log_dosyasi = os.path.join(arsiv_klasor, \"log.txt\")\n",
    "\n",
    "#Hedef klasör yoksa oluştur\n",
    "if not os.path.exists(arsiv_klasor):\n",
    "    os.makedirs(arsiv_klasor)\n",
    "\n",
    "with open(log_dosyasi, \"a\", encoding=\"utf-8\") as log:\n",
    "\n",
    "    for dosya in os.listdir(kaynak_klasor):\n",
    "        if dosya.endswith(\".txt\"):\n",
    "            kaynak_yol = os.path.join(kaynak_klasor, dosya)\n",
    "            hedef_yol = os.path.join(arsiv_klasor, dosya)\n",
    "\n",
    "            # Dosyayı taşı (kes-yapıştır işlemi)\n",
    "            # ÖNEMLİ: shutil.move() dosyayı kaynaktan siler!\n",
    "            shutil.move(kaynak_yol, hedef_yol)\n",
    "\n",
    "            zaman = datetime.now().strftime(\"%Y-%m-%d %H:%M:%S\")\n",
    "            log_satiri = f\"[{zaman}] {dosya} taşındı -> {arsiv_klasor}\\n\"\n",
    "            log.write(log_satiri)\n",
    "\n",
    "            print(log_satiri.strip())  # Log satırını konsola yazdırır. Strip() ile satır sonu boşluklarını kaldırırız."
   ]
  }
 ],
 "metadata": {
  "kernelspec": {
   "display_name": "Python 3",
   "language": "python",
   "name": "python3"
  },
  "language_info": {
   "codemirror_mode": {
    "name": "ipython",
    "version": 3
   },
   "file_extension": ".py",
   "mimetype": "text/x-python",
   "name": "python",
   "nbconvert_exporter": "python",
   "pygments_lexer": "ipython3",
   "version": "3.13.0"
  }
 },
 "nbformat": 4,
 "nbformat_minor": 5
}
